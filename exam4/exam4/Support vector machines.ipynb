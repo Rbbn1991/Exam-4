{
 "cells": [
  {
   "cell_type": "code",
   "execution_count": 1,
   "metadata": {},
   "outputs": [
    {
     "name": "stdout",
     "output_type": "stream",
     "text": [
      "It is a dictionary with keys: ['pixels', 'overfeat', 'labels', 'names', 'allow_pickle']\n"
     ]
    }
   ],
   "source": [
    "import numpy as np\n",
    "import os\n",
    "import pandas as pd\n",
    "\n",
    "# Load the .npz file\n",
    "with np.load('cifar4-train.npz') as data:\n",
    "    cifar4_data = dict(data.items())\n",
    "\n",
    "print('It is a dictionary with keys:', list(cifar4_data.keys()))"
   ]
  },
  {
   "cell_type": "code",
   "execution_count": 2,
   "metadata": {},
   "outputs": [],
   "source": [
    "X=cifar4_data['overfeat']\n",
    "y=cifar4_data['labels']"
   ]
  },
  {
   "cell_type": "code",
   "execution_count": 3,
   "metadata": {},
   "outputs": [],
   "source": [
    "from sklearn.model_selection import train_test_split\n",
    "from sklearn.decomposition import PCA\n",
    "from sklearn.pipeline import Pipeline\n",
    "from sklearn.svm import LinearSVC\n",
    "from sklearn.svm import SVC\n",
    "\n",
    "# Split data into train/test sets\n",
    "X_tr, X_te, y_tr, y_te = train_test_split(\n",
    "    X, y, test_size=0.2, random_state=0)"
   ]
  },
  {
   "cell_type": "markdown",
   "metadata": {},
   "source": [
    "# SVM with Linear Kernel"
   ]
  },
  {
   "cell_type": "code",
   "execution_count": 4,
   "metadata": {},
   "outputs": [
    {
     "name": "stdout",
     "output_type": "stream",
     "text": [
      "Accuracy: 0.779\n"
     ]
    }
   ],
   "source": [
    "# Create a k-NN classifier with default values\n",
    "# i set the # of componenents of the PCA to 87 because it represent the 85% of deviations\n",
    "\n",
    "# for the Linear Kernel I will use the LinearSVC as it looks faster and then I will use the SVC estimator as it use by default the RBF\n",
    "pipeLSVM = Pipeline([\n",
    "     ('PCA', PCA(n_components=87)),\n",
    "        ('LSV', LinearSVC(random_state=0)\n",
    "        )])\n",
    "\n",
    "\n",
    "# Fit to train data\n",
    "pipeLSVM.fit(X_tr, y_tr)\n",
    "\n",
    "# Evaluate on test set\n",
    "accuracy = pipeLSVM.score(X_tr, y_tr)\n",
    "print('Accuracy: {:.3f}'.format(accuracy))"
   ]
  },
  {
   "cell_type": "code",
   "execution_count": 5,
   "metadata": {},
   "outputs": [],
   "source": [
    "from sklearn.model_selection import KFold\n",
    "\n",
    "# Create k-fold object\n",
    "kfold = KFold(n_splits=5)\n"
   ]
  },
  {
   "cell_type": "markdown",
   "metadata": {},
   "source": [
    "from sklearn.model_selection import cross_validate\n",
    "rf_scores = cross_validate(pipeLSVM, X_tr, y_tr, cv=kfold,)"
   ]
  },
  {
   "cell_type": "code",
   "execution_count": 6,
   "metadata": {},
   "outputs": [],
   "source": [
    "# I Create the list of C parameters to test\n",
    "\n",
    "param=[]\n",
    "for i in range (10):\n",
    "    p=0.05+0.05*5*i\n",
    "    param.append(p)"
   ]
  },
  {
   "cell_type": "code",
   "execution_count": 7,
   "metadata": {},
   "outputs": [
    {
     "name": "stdout",
     "output_type": "stream",
     "text": [
      "C value 0.05\n",
      "SVM - mean test 0.822\n",
      "SVM - std test 0.011\n",
      "C value 0.3\n",
      "SVM - mean test 0.805\n",
      "SVM - std test 0.008\n",
      "C value 0.55\n",
      "SVM - mean test 0.781\n",
      "SVM - std test 0.005\n",
      "C value 0.8\n",
      "SVM - mean test 0.761\n",
      "SVM - std test 0.013\n",
      "C value 1.05\n",
      "SVM - mean test 0.754\n",
      "SVM - std test 0.018\n",
      "C value 1.3\n",
      "SVM - mean test 0.768\n",
      "SVM - std test 0.020\n",
      "C value 1.55\n",
      "SVM - mean test 0.761\n",
      "SVM - std test 0.013\n",
      "C value 1.8\n",
      "SVM - mean test 0.745\n",
      "SVM - std test 0.022\n",
      "C value 2.05\n",
      "SVM - mean test 0.765\n",
      "SVM - std test 0.018\n"
     ]
    }
   ],
   "source": [
    "from sklearn.model_selection import cross_validate\n",
    "\n",
    "# Save accuracy on test set\n",
    "test_scores_mean = []\n",
    "test_scores_std = []\n",
    "param_lin=[]\n",
    "\n",
    "\n",
    "for i in range(9):\n",
    "# Set parameters\n",
    "    pipeLSVM= Pipeline([\n",
    "     ('PCA', PCA(n_components=87)),\n",
    "        ('LSV', LinearSVC(random_state=0, C=param[i])\n",
    "        )])\n",
    "\n",
    "    rf_scores = cross_validate(pipeLSVM, X_tr, y_tr, cv=kfold,)\n",
    "    print('C value',param[i])\n",
    "    print('SVM - mean test {:.3f}'.format(\n",
    "    np.mean(rf_scores['test_score'])))\n",
    "    print('SVM - std test {:.3f}'.format(\n",
    "    np.std(rf_scores['test_score'])))\n",
    "    \n",
    "    test_scores_mean.append(format(np.mean(rf_scores['test_score'])))\n",
    "    test_scores_std.append(format(np.std(rf_scores['test_score'])))\n",
    "    param_lin.append(param[i])"
   ]
  },
  {
   "cell_type": "code",
   "execution_count": 8,
   "metadata": {},
   "outputs": [
    {
     "data": {
      "text/html": [
       "<div>\n",
       "<style scoped>\n",
       "    .dataframe tbody tr th:only-of-type {\n",
       "        vertical-align: middle;\n",
       "    }\n",
       "\n",
       "    .dataframe tbody tr th {\n",
       "        vertical-align: top;\n",
       "    }\n",
       "\n",
       "    .dataframe thead th {\n",
       "        text-align: right;\n",
       "    }\n",
       "</style>\n",
       "<table border=\"1\" class=\"dataframe\">\n",
       "  <thead>\n",
       "    <tr style=\"text-align: right;\">\n",
       "      <th></th>\n",
       "      <th>C</th>\n",
       "      <th>Mean</th>\n",
       "      <th>Std Dev</th>\n",
       "    </tr>\n",
       "  </thead>\n",
       "  <tbody>\n",
       "    <tr>\n",
       "      <th>0</th>\n",
       "      <td>0.05</td>\n",
       "      <td>0.8219999999999998</td>\n",
       "      <td>0.011000000000000008</td>\n",
       "    </tr>\n",
       "  </tbody>\n",
       "</table>\n",
       "</div>"
      ],
      "text/plain": [
       "      C                Mean               Std Dev\n",
       "0  0.05  0.8219999999999998  0.011000000000000008"
      ]
     },
     "execution_count": 8,
     "metadata": {},
     "output_type": "execute_result"
    }
   ],
   "source": [
    "svm_linear=pd.DataFrame(param_lin,columns=['C'])\n",
    "df=pd.DataFrame(test_scores_mean, columns=['Mean'])\n",
    "svm_linear=pd.concat([svm_linear,df], axis=1, )\n",
    "df2=pd.DataFrame(test_scores_std,columns=['Std Dev'])\n",
    "svm_linear=pd.concat([svm_linear,df2], axis=1)\n",
    "\n",
    "svm_linear.sort_values(by='Mean', ascending=False).head(1)"
   ]
  },
  {
   "cell_type": "markdown",
   "metadata": {},
   "source": [
    "# Non-Linear Kernel classification"
   ]
  },
  {
   "cell_type": "code",
   "execution_count": 9,
   "metadata": {},
   "outputs": [
    {
     "name": "stdout",
     "output_type": "stream",
     "text": [
      "Accuracy: 1.000\n",
      "{'SVC__C': 0.05, 'SVC__gamma': 0.0001}\n",
      "SVM - mean test 0.769\n",
      "SVM - mean test 0.012\n",
      "{'SVC__C': 0.05, 'SVC__gamma': 0.00030000000000000003}\n",
      "SVM - mean test 0.762\n",
      "SVM - mean test 0.010\n",
      "{'SVC__C': 0.05, 'SVC__gamma': 0.0005000000000000001}\n",
      "SVM - mean test 0.733\n",
      "SVM - mean test 0.017\n",
      "{'SVC__C': 0.05, 'SVC__gamma': 0.0007000000000000001}\n",
      "SVM - mean test 0.685\n",
      "SVM - mean test 0.024\n",
      "{'SVC__C': 0.05, 'SVC__gamma': 0.0009000000000000002}\n",
      "SVM - mean test 0.610\n",
      "SVM - mean test 0.054\n",
      "{'SVC__C': 0.55, 'SVC__gamma': 0.0001}\n",
      "SVM - mean test 0.819\n",
      "SVM - mean test 0.006\n",
      "{'SVC__C': 0.55, 'SVC__gamma': 0.00030000000000000003}\n",
      "SVM - mean test 0.824\n",
      "SVM - mean test 0.007\n",
      "{'SVC__C': 0.55, 'SVC__gamma': 0.0005000000000000001}\n",
      "SVM - mean test 0.822\n",
      "SVM - mean test 0.007\n",
      "{'SVC__C': 0.55, 'SVC__gamma': 0.0007000000000000001}\n",
      "SVM - mean test 0.809\n",
      "SVM - mean test 0.003\n",
      "{'SVC__C': 0.55, 'SVC__gamma': 0.0009000000000000002}\n",
      "SVM - mean test 0.791\n",
      "SVM - mean test 0.006\n",
      "{'SVC__C': 1.05, 'SVC__gamma': 0.0001}\n",
      "SVM - mean test 0.826\n",
      "SVM - mean test 0.006\n",
      "{'SVC__C': 1.05, 'SVC__gamma': 0.00030000000000000003}\n",
      "SVM - mean test 0.832\n",
      "SVM - mean test 0.007\n",
      "{'SVC__C': 1.05, 'SVC__gamma': 0.0005000000000000001}\n",
      "SVM - mean test 0.829\n",
      "SVM - mean test 0.006\n",
      "{'SVC__C': 1.05, 'SVC__gamma': 0.0007000000000000001}\n",
      "SVM - mean test 0.825\n",
      "SVM - mean test 0.004\n",
      "{'SVC__C': 1.05, 'SVC__gamma': 0.0009000000000000002}\n",
      "SVM - mean test 0.815\n",
      "SVM - mean test 0.002\n",
      "{'SVC__C': 1.55, 'SVC__gamma': 0.0001}\n",
      "SVM - mean test 0.829\n",
      "SVM - mean test 0.006\n",
      "{'SVC__C': 1.55, 'SVC__gamma': 0.00030000000000000003}\n",
      "SVM - mean test 0.831\n",
      "SVM - mean test 0.009\n",
      "{'SVC__C': 1.55, 'SVC__gamma': 0.0005000000000000001}\n",
      "SVM - mean test 0.827\n",
      "SVM - mean test 0.006\n",
      "{'SVC__C': 1.55, 'SVC__gamma': 0.0007000000000000001}\n",
      "SVM - mean test 0.822\n",
      "SVM - mean test 0.005\n",
      "{'SVC__C': 1.55, 'SVC__gamma': 0.0009000000000000002}\n",
      "SVM - mean test 0.814\n",
      "SVM - mean test 0.005\n"
     ]
    }
   ],
   "source": [
    "from sklearn.svm import SVC\n",
    "\n",
    "# the standard for the kernel is rbf so I do not need to mention it\n",
    "pipeSVC = Pipeline([\n",
    "     ('PCA', PCA(n_components=87)),\n",
    "        ('SVC', SVC()\n",
    "        )])\n",
    "\n",
    "test_scores_mean_svc = []\n",
    "test_scores_std_svc = []\n",
    "param_svc=[]\n",
    "# Fit to train data\n",
    "pipeSVC.fit(X_tr, y_tr)\n",
    "\n",
    "# Evaluate on test set\n",
    "accuracy = pipeSVC.score(X_tr, y_tr)\n",
    "print('Accuracy: {:.3f}'.format(accuracy))\n",
    "\n",
    "from sklearn.model_selection import ParameterGrid\n",
    "\n",
    "# Define a set of reasonable values\n",
    "C = np.arange(0.05, 2,0.5)\n",
    "gamma = np.arange(0.0001,0.001,0.0002)\n",
    "\n",
    "\n",
    "# Define a grid of values\n",
    "grid = ParameterGrid({\n",
    "    'SVC__C': C,\n",
    "    'SVC__gamma': gamma,\n",
    "    \n",
    "})\n",
    "\n",
    "\n",
    "\n",
    "for params_dict in grid:\n",
    "    # Set parameters\n",
    "    pipeSVC.set_params(**params_dict)\n",
    "\n",
    "    # Fit a k-NN classifier\n",
    "    pipeSVC.fit(X_tr, y_tr)\n",
    "    \n",
    "    \n",
    "    # Evaluate on test set\n",
    "   \n",
    "    \n",
    "    \n",
    "    \n",
    "    \n",
    "    rf_scores_nonliner = cross_validate(pipeSVC, X_tr, y_tr, cv=kfold)\n",
    "    print(params_dict)\n",
    "    print('SVM - mean test {:.3f}'.format(\n",
    "    np.mean(rf_scores_nonliner['test_score'])))\n",
    "    print('SVM - mean test {:.3f}'.format(\n",
    "    np.std(rf_scores_nonliner['test_score'])))\n",
    "    test_scores_mean_svc.append(format(np.mean(rf_scores_nonliner['test_score'])))\n",
    "    test_scores_std_svc.append(format(np.std(rf_scores_nonliner['test_score'])))\n",
    "    param_svc.append(params_dict)\n",
    "    "
   ]
  },
  {
   "cell_type": "code",
   "execution_count": 10,
   "metadata": {},
   "outputs": [
    {
     "data": {
      "text/html": [
       "<div>\n",
       "<style scoped>\n",
       "    .dataframe tbody tr th:only-of-type {\n",
       "        vertical-align: middle;\n",
       "    }\n",
       "\n",
       "    .dataframe tbody tr th {\n",
       "        vertical-align: top;\n",
       "    }\n",
       "\n",
       "    .dataframe thead th {\n",
       "        text-align: right;\n",
       "    }\n",
       "</style>\n",
       "<table border=\"1\" class=\"dataframe\">\n",
       "  <thead>\n",
       "    <tr style=\"text-align: right;\">\n",
       "      <th></th>\n",
       "      <th>SVC__C</th>\n",
       "      <th>SVC__gamma</th>\n",
       "      <th>Mean</th>\n",
       "      <th>Std Dev</th>\n",
       "    </tr>\n",
       "  </thead>\n",
       "  <tbody>\n",
       "    <tr>\n",
       "      <th>11</th>\n",
       "      <td>1.05</td>\n",
       "      <td>0.0003</td>\n",
       "      <td>0.8317499999999999</td>\n",
       "      <td>0.006689544080129831</td>\n",
       "    </tr>\n",
       "  </tbody>\n",
       "</table>\n",
       "</div>"
      ],
      "text/plain": [
       "    SVC__C  SVC__gamma                Mean               Std Dev\n",
       "11    1.05      0.0003  0.8317499999999999  0.006689544080129831"
      ]
     },
     "execution_count": 10,
     "metadata": {},
     "output_type": "execute_result"
    }
   ],
   "source": [
    "svc=pd.DataFrame(param_svc)\n",
    "df=pd.DataFrame(test_scores_mean_svc, columns=['Mean'])\n",
    "svc=pd.concat([svc,df], axis=1, )\n",
    "df2=pd.DataFrame(test_scores_std_svc,columns=['Std Dev'])\n",
    "svc=pd.concat([svc,df2], axis=1)\n",
    "\n",
    "svc.sort_values(by='Mean', ascending=False).head(1)"
   ]
  },
  {
   "cell_type": "markdown",
   "metadata": {},
   "source": [
    "# Evaluate accuracy on test set"
   ]
  },
  {
   "cell_type": "code",
   "execution_count": 11,
   "metadata": {},
   "outputs": [
    {
     "name": "stdout",
     "output_type": "stream",
     "text": [
      "Accuracy: 0.819\n"
     ]
    }
   ],
   "source": [
    "# I run the tuned linear kernel\n",
    "pipeLSVM = Pipeline([\n",
    "     ('PCA', PCA(n_components=87)),\n",
    "        ('LSV', LinearSVC(random_state=0, C=0.05)\n",
    "        )])\n",
    "\n",
    "\n",
    "# Fit to train data\n",
    "pipeLSVM.fit(X_tr, y_tr)\n",
    "\n",
    "# Evaluate on test set\n",
    "accuracy = pipeLSVM.score(X_te, y_te)\n",
    "print('Accuracy: {:.3f}'.format(accuracy))"
   ]
  },
  {
   "cell_type": "code",
   "execution_count": 12,
   "metadata": {},
   "outputs": [
    {
     "name": "stdout",
     "output_type": "stream",
     "text": [
      "Accuracy: 0.815\n"
     ]
    }
   ],
   "source": [
    "# I ran the tuned Non-linear Kernel\n",
    "pipeSVC = Pipeline([\n",
    "     ('PCA', PCA(n_components=87)),\n",
    "        ('SVC', SVC(C=1.55,gamma=0.0003)\n",
    "        )])\n",
    "\n",
    "test_scores_mean_svc = []\n",
    "test_scores_std_svc = []\n",
    "param_svc=[]\n",
    "# Fit to train data\n",
    "pipeSVC.fit(X_tr, y_tr)\n",
    "\n",
    "# Evaluate on test set\n",
    "accuracy = pipeSVC.score(X_te, y_te)\n",
    "print('Accuracy: {:.3f}'.format(accuracy))"
   ]
  },
  {
   "cell_type": "markdown",
   "metadata": {},
   "source": [
    "### As expected with the non linear kernel I get a better accuracy but with an higher computational cost"
   ]
  },
  {
   "cell_type": "code",
   "execution_count": null,
   "metadata": {},
   "outputs": [],
   "source": []
  }
 ],
 "metadata": {
  "kernelspec": {
   "display_name": "Python 3",
   "language": "python",
   "name": "python3"
  },
  "language_info": {
   "codemirror_mode": {
    "name": "ipython",
    "version": 3
   },
   "file_extension": ".py",
   "mimetype": "text/x-python",
   "name": "python",
   "nbconvert_exporter": "python",
   "pygments_lexer": "ipython3",
   "version": "3.6.5"
  }
 },
 "nbformat": 4,
 "nbformat_minor": 2
}
