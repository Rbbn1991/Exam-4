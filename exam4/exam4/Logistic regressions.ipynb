{
 "cells": [
  {
   "cell_type": "code",
   "execution_count": 1,
   "metadata": {},
   "outputs": [
    {
     "name": "stdout",
     "output_type": "stream",
     "text": [
      "It is a dictionary with keys: ['pixels', 'overfeat', 'labels', 'names', 'allow_pickle']\n"
     ]
    }
   ],
   "source": [
    "import numpy as np\n",
    "import os\n",
    "import pandas as pd\n",
    "\n",
    "# Load the .npz file\n",
    "with np.load('cifar4-train.npz') as data:\n",
    "    cifar4_data = dict(data.items())\n",
    "\n",
    "print('It is a dictionary with keys:', list(cifar4_data.keys()))"
   ]
  },
  {
   "cell_type": "code",
   "execution_count": 2,
   "metadata": {},
   "outputs": [],
   "source": [
    "X=cifar4_data['overfeat']\n",
    "y=cifar4_data['labels']\n",
    "P=cifar4_data['pixels']\n"
   ]
  },
  {
   "cell_type": "code",
   "execution_count": 3,
   "metadata": {},
   "outputs": [],
   "source": [
    "from sklearn.model_selection import train_test_split\n",
    "from sklearn.decomposition import PCA\n",
    "from sklearn.pipeline import Pipeline\n",
    "from sklearn.svm import LinearSVC\n",
    "from sklearn.svm import SVC\n",
    "from sklearn.linear_model import LogisticRegression\n",
    "\n",
    "\n",
    "# Split data into train/test sets\n",
    "X_tr, X_te, y_tr, y_te = train_test_split(\n",
    "    X, y, test_size=0.2, random_state=0)"
   ]
  },
  {
   "cell_type": "code",
   "execution_count": 4,
   "metadata": {},
   "outputs": [],
   "source": [
    "# Split data into train/test sets\n",
    "P_tr, P_te= train_test_split(\n",
    "    P, test_size=0.2, random_state=0)\n",
    "\n"
   ]
  },
  {
   "cell_type": "code",
   "execution_count": 5,
   "metadata": {},
   "outputs": [
    {
     "name": "stdout",
     "output_type": "stream",
     "text": [
      "Accuracy: 1.000\n"
     ]
    }
   ],
   "source": [
    "# Create a pipeline with the PCA\n",
    "pipelogreg = Pipeline([\n",
    "     ('PCA', PCA()),\n",
    "        ('logreg', LogisticRegression()\n",
    "        )])\n",
    "\n",
    "\n",
    "# Fit to train data\n",
    "pipelogreg.fit(X_tr, y_tr)\n",
    "\n",
    "# Evaluate on test set\n",
    "accuracy = pipelogreg.score(X_tr, y_tr)\n",
    "print('Accuracy: {:.3f}'.format(accuracy))"
   ]
  },
  {
   "cell_type": "code",
   "execution_count": 6,
   "metadata": {},
   "outputs": [
    {
     "data": {
      "text/plain": [
       "dict_keys(['memory', 'steps', 'PCA', 'logreg', 'PCA__copy', 'PCA__iterated_power', 'PCA__n_components', 'PCA__random_state', 'PCA__svd_solver', 'PCA__tol', 'PCA__whiten', 'logreg__C', 'logreg__class_weight', 'logreg__dual', 'logreg__fit_intercept', 'logreg__intercept_scaling', 'logreg__max_iter', 'logreg__multi_class', 'logreg__n_jobs', 'logreg__penalty', 'logreg__random_state', 'logreg__solver', 'logreg__tol', 'logreg__verbose', 'logreg__warm_start'])"
      ]
     },
     "execution_count": 6,
     "metadata": {},
     "output_type": "execute_result"
    }
   ],
   "source": [
    "pipelogreg.get_params().keys()"
   ]
  },
  {
   "cell_type": "code",
   "execution_count": 7,
   "metadata": {},
   "outputs": [],
   "source": [
    "from sklearn.model_selection import KFold\n",
    "\n",
    "# Create k-fold object\n",
    "kfold = KFold(n_splits=5)\n"
   ]
  },
  {
   "cell_type": "code",
   "execution_count": 9,
   "metadata": {},
   "outputs": [
    {
     "name": "stdout",
     "output_type": "stream",
     "text": [
      "{'PCA__n_components': None, 'logreg__C': 0.1}\n",
      "SVM - mean test 0.833\n",
      "SVM - mean test 0.013\n",
      "{'PCA__n_components': None, 'logreg__C': 0.5}\n",
      "SVM - mean test 0.822\n",
      "SVM - mean test 0.018\n",
      "{'PCA__n_components': None, 'logreg__C': 1}\n",
      "SVM - mean test 0.820\n",
      "SVM - mean test 0.018\n",
      "{'PCA__n_components': None, 'logreg__C': 1.5}\n",
      "SVM - mean test 0.819\n",
      "SVM - mean test 0.017\n",
      "{'PCA__n_components': None, 'logreg__C': 2}\n",
      "SVM - mean test 0.818\n",
      "SVM - mean test 0.017\n",
      "{'PCA__n_components': None, 'logreg__C': 5}\n",
      "SVM - mean test 0.817\n",
      "SVM - mean test 0.017\n",
      "{'PCA__n_components': None, 'logreg__C': 10}\n",
      "SVM - mean test 0.814\n",
      "SVM - mean test 0.018\n",
      "{'PCA__n_components': None, 'logreg__C': 50}\n",
      "SVM - mean test 0.811\n",
      "SVM - mean test 0.017\n",
      "{'PCA__n_components': None, 'logreg__C': 100}\n",
      "SVM - mean test 0.812\n",
      "SVM - mean test 0.018\n",
      "{'PCA__n_components': 87, 'logreg__C': 0.1}\n",
      "SVM - mean test 0.820\n",
      "SVM - mean test 0.011\n",
      "{'PCA__n_components': 87, 'logreg__C': 0.5}\n",
      "SVM - mean test 0.822\n",
      "SVM - mean test 0.011\n",
      "{'PCA__n_components': 87, 'logreg__C': 1}\n",
      "SVM - mean test 0.823\n",
      "SVM - mean test 0.011\n",
      "{'PCA__n_components': 87, 'logreg__C': 1.5}\n",
      "SVM - mean test 0.822\n",
      "SVM - mean test 0.011\n",
      "{'PCA__n_components': 87, 'logreg__C': 2}\n",
      "SVM - mean test 0.821\n",
      "SVM - mean test 0.009\n",
      "{'PCA__n_components': 87, 'logreg__C': 5}\n",
      "SVM - mean test 0.819\n",
      "SVM - mean test 0.011\n",
      "{'PCA__n_components': 87, 'logreg__C': 10}\n",
      "SVM - mean test 0.822\n",
      "SVM - mean test 0.010\n",
      "{'PCA__n_components': 87, 'logreg__C': 50}\n",
      "SVM - mean test 0.823\n",
      "SVM - mean test 0.011\n",
      "{'PCA__n_components': 87, 'logreg__C': 100}\n",
      "SVM - mean test 0.821\n",
      "SVM - mean test 0.010\n"
     ]
    }
   ],
   "source": [
    "# to tune the regularization strenght I use the C parameter\n",
    "\n",
    "from sklearn.model_selection import ParameterGrid\n",
    "from sklearn.model_selection import cross_validate\n",
    "\n",
    "# Define a set of reasonable values\n",
    "principal=[None,87]\n",
    "C=[0.1,0.5,1,1.5,2,5,10,50,100]\n",
    "\n",
    "# Define a grid of values\n",
    "grid = ParameterGrid({\n",
    "    'PCA__n_components': principal,\n",
    "    'logreg__C': C,\n",
    "    \n",
    "})\n",
    "\n",
    "test_scores_mean_logreg=[]\n",
    "test_scores_std_logreg=[]\n",
    "test_scores_param_logreg=[]\n",
    "\n",
    "\n",
    "for params_dict in grid:\n",
    "    # Set parameters\n",
    "    pipelogreg.set_params(**params_dict)\n",
    "\n",
    "    # Fit a k-NN classifier\n",
    "    pipelogreg.fit(X_tr, y_tr)\n",
    "    \n",
    "    \n",
    "    # Evaluate on test set\n",
    "    #accuracy = pipeSVC.score(X_te, y_te)\n",
    "    #print(params_dict)\n",
    "    #print('Accuracy: {:.3f}'.format(accuracy))\n",
    "    \n",
    "    \n",
    "    \n",
    "    \n",
    "    rf_scores_logreg=cross_validate(pipelogreg, X_tr, y_tr, cv=kfold)\n",
    "    print(params_dict)\n",
    "    print('SVM - mean test {:.3f}'.format(\n",
    "    np.mean(rf_scores_logreg['test_score'])))\n",
    "    print('SVM - mean test {:.3f}'.format(\n",
    "    np.std(rf_scores_logreg['test_score'])))\n",
    "    test_scores_mean_logreg.append(format(np.mean(rf_scores_logreg['test_score'])))\n",
    "    test_scores_std_logreg.append(format(np.std(rf_scores_logreg['test_score'])))\n",
    "    test_scores_param_logreg.append(params_dict)\n",
    "    "
   ]
  },
  {
   "cell_type": "code",
   "execution_count": 10,
   "metadata": {},
   "outputs": [
    {
     "data": {
      "text/html": [
       "<div>\n",
       "<style scoped>\n",
       "    .dataframe tbody tr th:only-of-type {\n",
       "        vertical-align: middle;\n",
       "    }\n",
       "\n",
       "    .dataframe tbody tr th {\n",
       "        vertical-align: top;\n",
       "    }\n",
       "\n",
       "    .dataframe thead th {\n",
       "        text-align: right;\n",
       "    }\n",
       "</style>\n",
       "<table border=\"1\" class=\"dataframe\">\n",
       "  <thead>\n",
       "    <tr style=\"text-align: right;\">\n",
       "      <th></th>\n",
       "      <th>PCA__n_components</th>\n",
       "      <th>logreg__C</th>\n",
       "      <th>Mean</th>\n",
       "      <th>Std Dev</th>\n",
       "    </tr>\n",
       "  </thead>\n",
       "  <tbody>\n",
       "    <tr>\n",
       "      <th>0</th>\n",
       "      <td>NaN</td>\n",
       "      <td>0.1</td>\n",
       "      <td>0.8332499999999999</td>\n",
       "      <td>0.01305277748220659</td>\n",
       "    </tr>\n",
       "    <tr>\n",
       "      <th>16</th>\n",
       "      <td>87.0</td>\n",
       "      <td>50.0</td>\n",
       "      <td>0.82325</td>\n",
       "      <td>0.010741275529470422</td>\n",
       "    </tr>\n",
       "    <tr>\n",
       "      <th>11</th>\n",
       "      <td>87.0</td>\n",
       "      <td>1.0</td>\n",
       "      <td>0.8227499999999999</td>\n",
       "      <td>0.010706306552681932</td>\n",
       "    </tr>\n",
       "    <tr>\n",
       "      <th>15</th>\n",
       "      <td>87.0</td>\n",
       "      <td>10.0</td>\n",
       "      <td>0.82225</td>\n",
       "      <td>0.010470195795685965</td>\n",
       "    </tr>\n",
       "    <tr>\n",
       "      <th>10</th>\n",
       "      <td>87.0</td>\n",
       "      <td>0.5</td>\n",
       "      <td>0.8219999999999998</td>\n",
       "      <td>0.010741275529470401</td>\n",
       "    </tr>\n",
       "    <tr>\n",
       "      <th>12</th>\n",
       "      <td>87.0</td>\n",
       "      <td>1.5</td>\n",
       "      <td>0.8217500000000001</td>\n",
       "      <td>0.010914439976471528</td>\n",
       "    </tr>\n",
       "    <tr>\n",
       "      <th>1</th>\n",
       "      <td>NaN</td>\n",
       "      <td>0.5</td>\n",
       "      <td>0.82175</td>\n",
       "      <td>0.018124568960391833</td>\n",
       "    </tr>\n",
       "    <tr>\n",
       "      <th>13</th>\n",
       "      <td>87.0</td>\n",
       "      <td>2.0</td>\n",
       "      <td>0.8205</td>\n",
       "      <td>0.00937416662962633</td>\n",
       "    </tr>\n",
       "    <tr>\n",
       "      <th>17</th>\n",
       "      <td>87.0</td>\n",
       "      <td>100.0</td>\n",
       "      <td>0.8205</td>\n",
       "      <td>0.010111874208078332</td>\n",
       "    </tr>\n",
       "    <tr>\n",
       "      <th>9</th>\n",
       "      <td>87.0</td>\n",
       "      <td>0.1</td>\n",
       "      <td>0.82025</td>\n",
       "      <td>0.011022703842524293</td>\n",
       "    </tr>\n",
       "    <tr>\n",
       "      <th>2</th>\n",
       "      <td>NaN</td>\n",
       "      <td>1.0</td>\n",
       "      <td>0.82</td>\n",
       "      <td>0.018285923547909727</td>\n",
       "    </tr>\n",
       "    <tr>\n",
       "      <th>14</th>\n",
       "      <td>87.0</td>\n",
       "      <td>5.0</td>\n",
       "      <td>0.819</td>\n",
       "      <td>0.010822430410956678</td>\n",
       "    </tr>\n",
       "    <tr>\n",
       "      <th>3</th>\n",
       "      <td>NaN</td>\n",
       "      <td>1.5</td>\n",
       "      <td>0.8185</td>\n",
       "      <td>0.017219175357722542</td>\n",
       "    </tr>\n",
       "    <tr>\n",
       "      <th>4</th>\n",
       "      <td>NaN</td>\n",
       "      <td>2.0</td>\n",
       "      <td>0.81775</td>\n",
       "      <td>0.017128193132960618</td>\n",
       "    </tr>\n",
       "    <tr>\n",
       "      <th>5</th>\n",
       "      <td>NaN</td>\n",
       "      <td>5.0</td>\n",
       "      <td>0.817</td>\n",
       "      <td>0.01659442677527608</td>\n",
       "    </tr>\n",
       "    <tr>\n",
       "      <th>6</th>\n",
       "      <td>NaN</td>\n",
       "      <td>10.0</td>\n",
       "      <td>0.8140000000000001</td>\n",
       "      <td>0.01770240096710049</td>\n",
       "    </tr>\n",
       "    <tr>\n",
       "      <th>8</th>\n",
       "      <td>NaN</td>\n",
       "      <td>100.0</td>\n",
       "      <td>0.81175</td>\n",
       "      <td>0.01772357187476611</td>\n",
       "    </tr>\n",
       "    <tr>\n",
       "      <th>7</th>\n",
       "      <td>NaN</td>\n",
       "      <td>50.0</td>\n",
       "      <td>0.8115</td>\n",
       "      <td>0.016703293088490043</td>\n",
       "    </tr>\n",
       "  </tbody>\n",
       "</table>\n",
       "</div>"
      ],
      "text/plain": [
       "    PCA__n_components  logreg__C                Mean               Std Dev\n",
       "0                 NaN        0.1  0.8332499999999999   0.01305277748220659\n",
       "16               87.0       50.0             0.82325  0.010741275529470422\n",
       "11               87.0        1.0  0.8227499999999999  0.010706306552681932\n",
       "15               87.0       10.0             0.82225  0.010470195795685965\n",
       "10               87.0        0.5  0.8219999999999998  0.010741275529470401\n",
       "12               87.0        1.5  0.8217500000000001  0.010914439976471528\n",
       "1                 NaN        0.5             0.82175  0.018124568960391833\n",
       "13               87.0        2.0              0.8205   0.00937416662962633\n",
       "17               87.0      100.0              0.8205  0.010111874208078332\n",
       "9                87.0        0.1             0.82025  0.011022703842524293\n",
       "2                 NaN        1.0                0.82  0.018285923547909727\n",
       "14               87.0        5.0               0.819  0.010822430410956678\n",
       "3                 NaN        1.5              0.8185  0.017219175357722542\n",
       "4                 NaN        2.0             0.81775  0.017128193132960618\n",
       "5                 NaN        5.0               0.817   0.01659442677527608\n",
       "6                 NaN       10.0  0.8140000000000001   0.01770240096710049\n",
       "8                 NaN      100.0             0.81175   0.01772357187476611\n",
       "7                 NaN       50.0              0.8115  0.016703293088490043"
      ]
     },
     "execution_count": 10,
     "metadata": {},
     "output_type": "execute_result"
    }
   ],
   "source": [
    "logreg_res=pd.DataFrame(test_scores_param_logreg)\n",
    "df=pd.DataFrame(test_scores_mean_logreg, columns=['Mean'])\n",
    "logreg_res=pd.concat([logreg_res,df], axis=1, )\n",
    "df2=pd.DataFrame(test_scores_std_logreg,columns=['Std Dev'])\n",
    "logreg_res=pd.concat([logreg_res,df2], axis=1)\n",
    "\n",
    "logreg_res.sort_values(by='Mean', ascending=False)"
   ]
  },
  {
   "cell_type": "code",
   "execution_count": 11,
   "metadata": {},
   "outputs": [
    {
     "name": "stdout",
     "output_type": "stream",
     "text": [
      "Accuracy: 0.828\n"
     ]
    }
   ],
   "source": [
    "pipelogreg = Pipeline([\n",
    "     ('PCA', PCA(n_components=None)),\n",
    "        ('logreg', LogisticRegression(C=0.1)\n",
    "        )])\n",
    "\n",
    "\n",
    "# Fit to train data\n",
    "pipelogreg.fit(X_tr, y_tr)\n",
    "\n",
    "# Evaluate on test set\n",
    "accuracy = pipelogreg.score(X_te, y_te)\n",
    "print('Accuracy: {:.3f}'.format(accuracy))"
   ]
  },
  {
   "cell_type": "markdown",
   "metadata": {},
   "source": [
    "### The results on the test are aligned with the training"
   ]
  },
  {
   "cell_type": "markdown",
   "metadata": {},
   "source": [
    "# Review specific imagines"
   ]
  },
  {
   "cell_type": "code",
   "execution_count": 12,
   "metadata": {},
   "outputs": [
    {
     "name": "stdout",
     "output_type": "stream",
     "text": [
      "Picture # 0\n"
     ]
    },
    {
     "data": {
      "image/png": "[encoded data removed]",
      "text/plain": [
       "<Figure size 144x144 with 1 Axes>"
      ]
     },
     "metadata": {},
     "output_type": "display_data"
    },
    {
     "name": "stdout",
     "output_type": "stream",
     "text": [
      "Picture # 1\n"
     ]
    },
    {
     "data": {
      "image/png": "[encoded data removed]",
      "text/plain": [
       "<Figure size 144x144 with 1 Axes>"
      ]
     },
     "metadata": {},
     "output_type": "display_data"
    },
    {
     "name": "stdout",
     "output_type": "stream",
     "text": [
      "Picture # 2\n"
     ]
    },
    {
     "data": {
      "image/png": "[encoded data removed]",
      "text/plain": [
       "<Figure size 144x144 with 1 Axes>"
      ]
     },
     "metadata": {},
     "output_type": "display_data"
    },
    {
     "name": "stdout",
     "output_type": "stream",
     "text": [
      "Picture # 3\n"
     ]
    },
    {
     "data": {
      "image/png": "[encoded data removed]",
      "text/plain": [
       "<Figure size 144x144 with 1 Axes>"
      ]
     },
     "metadata": {},
     "output_type": "display_data"
    },
    {
     "name": "stdout",
     "output_type": "stream",
     "text": [
      "Picture # 4\n"
     ]
    },
    {
     "data": {
      "image/png": "[encoded data removed]",
      "text/plain": [
       "<Figure size 144x144 with 1 Axes>"
      ]
     },
     "metadata": {},
     "output_type": "display_data"
    },
    {
     "name": "stdout",
     "output_type": "stream",
     "text": [
      "Picture # 5\n"
     ]
    },
    {
     "data": {
      "image/png": "[encoded data removed]",
      "text/plain": [
       "<Figure size 144x144 with 1 Axes>"
      ]
     },
     "metadata": {},
     "output_type": "display_data"
    },
    {
     "name": "stdout",
     "output_type": "stream",
     "text": [
      "Picture # 6\n"
     ]
    },
    {
     "data": {
      "image/png": "[encoded data removed]",
      "text/plain": [
       "<Figure size 144x144 with 1 Axes>"
      ]
     },
     "metadata": {},
     "output_type": "display_data"
    },
    {
     "name": "stdout",
     "output_type": "stream",
     "text": [
      "Picture # 7\n"
     ]
    },
    {
     "data": {
      "image/png": "[encoded data removed]",
      "text/plain": [
       "<Figure size 144x144 with 1 Axes>"
      ]
     },
     "metadata": {},
     "output_type": "display_data"
    },
    {
     "name": "stdout",
     "output_type": "stream",
     "text": [
      "Picture # 8\n"
     ]
    },
    {
     "data": {
      "image/png": "[encoded data removed]",
      "text/plain": [
       "<Figure size 144x144 with 1 Axes>"
      ]
     },
     "metadata": {},
     "output_type": "display_data"
    },
    {
     "name": "stdout",
     "output_type": "stream",
     "text": [
      "Picture # 9\n"
     ]
    },
    {
     "data": {
      "image/png": "[encoded data removed]",
      "text/plain": [
       "<Figure size 144x144 with 1 Axes>"
      ]
     },
     "metadata": {},
     "output_type": "display_data"
    }
   ],
   "source": [
    "%matplotlib inline\n",
    "import matplotlib.pyplot as plt\n",
    "\n",
    "# Function to plot the i-th image from some X/y arrays\n",
    "def show_image(idx, X, y):\n",
    "    # Print its label\n",
    "    label = y[idx]\n",
    "    \n",
    "    \n",
    "    \n",
    "    # Get image pixels\n",
    "    flat_img = X[idx] # has shape (3072,)\n",
    "    \n",
    "    # Reshape the \"flat vector\" into a 32x32x3 array \n",
    "    img = flat_img.reshape(32, 32, 3)\n",
    "    \n",
    "    # The imshow() function expects pixel values\n",
    "    # between 0 and 1 when the data type is float.\n",
    "    img = img/255 # Rescale [0,255] values to [0,1]\n",
    "    \n",
    "    # Plot the imag\n",
    "    plt.figure(figsize=(2,2)) # 2 by 2 figure (in inches)\n",
    "    plt.imshow(img)\n",
    "    plt.axis('off') # Hide the x- and y-axis\n",
    "    plt.show()\n",
    "i=0 \n",
    "\n",
    "for i in range(10):\n",
    "    print('Picture #',i)\n",
    "    show_image(i,P_te , y_te )"
   ]
  },
  {
   "cell_type": "code",
   "execution_count": 13,
   "metadata": {},
   "outputs": [],
   "source": [
    "df_list_overfeat=pd.DataFrame(X_te).head(10)"
   ]
  },
  {
   "cell_type": "code",
   "execution_count": 14,
   "metadata": {
    "scrolled": true
   },
   "outputs": [
    {
     "data": {
      "text/html": [
       "<div>\n",
       "<style scoped>\n",
       "    .dataframe tbody tr th:only-of-type {\n",
       "        vertical-align: middle;\n",
       "    }\n",
       "\n",
       "    .dataframe tbody tr th {\n",
       "        vertical-align: top;\n",
       "    }\n",
       "\n",
       "    .dataframe thead th {\n",
       "        text-align: right;\n",
       "    }\n",
       "</style>\n",
       "<table border=\"1\" class=\"dataframe\">\n",
       "  <thead>\n",
       "    <tr style=\"text-align: right;\">\n",
       "      <th></th>\n",
       "      <th>0</th>\n",
       "      <th>1</th>\n",
       "      <th>2</th>\n",
       "      <th>3</th>\n",
       "      <th>4</th>\n",
       "      <th>5</th>\n",
       "      <th>6</th>\n",
       "      <th>7</th>\n",
       "      <th>8</th>\n",
       "      <th>9</th>\n",
       "      <th>...</th>\n",
       "      <th>4086</th>\n",
       "      <th>4087</th>\n",
       "      <th>4088</th>\n",
       "      <th>4089</th>\n",
       "      <th>4090</th>\n",
       "      <th>4091</th>\n",
       "      <th>4092</th>\n",
       "      <th>4093</th>\n",
       "      <th>4094</th>\n",
       "      <th>4095</th>\n",
       "    </tr>\n",
       "  </thead>\n",
       "  <tbody>\n",
       "    <tr>\n",
       "      <th>0</th>\n",
       "      <td>4.074219</td>\n",
       "      <td>0.448242</td>\n",
       "      <td>0.981934</td>\n",
       "      <td>0.600586</td>\n",
       "      <td>0.147949</td>\n",
       "      <td>0.032654</td>\n",
       "      <td>-0.903320</td>\n",
       "      <td>-0.449463</td>\n",
       "      <td>-1.786133</td>\n",
       "      <td>-0.157104</td>\n",
       "      <td>...</td>\n",
       "      <td>1.311523</td>\n",
       "      <td>-1.329102</td>\n",
       "      <td>-1.107422</td>\n",
       "      <td>-0.695312</td>\n",
       "      <td>-2.037109</td>\n",
       "      <td>-1.163086</td>\n",
       "      <td>0.305664</td>\n",
       "      <td>-1.410156</td>\n",
       "      <td>1.251953</td>\n",
       "      <td>-0.618164</td>\n",
       "    </tr>\n",
       "    <tr>\n",
       "      <th>1</th>\n",
       "      <td>1.599609</td>\n",
       "      <td>-0.134155</td>\n",
       "      <td>0.183228</td>\n",
       "      <td>-0.589844</td>\n",
       "      <td>-0.876465</td>\n",
       "      <td>-0.122375</td>\n",
       "      <td>-0.903320</td>\n",
       "      <td>-0.562500</td>\n",
       "      <td>0.509766</td>\n",
       "      <td>1.099609</td>\n",
       "      <td>...</td>\n",
       "      <td>0.973145</td>\n",
       "      <td>-1.235352</td>\n",
       "      <td>-0.020996</td>\n",
       "      <td>-1.283203</td>\n",
       "      <td>-2.310547</td>\n",
       "      <td>-1.519531</td>\n",
       "      <td>-1.378906</td>\n",
       "      <td>-1.290039</td>\n",
       "      <td>0.959473</td>\n",
       "      <td>-0.590820</td>\n",
       "    </tr>\n",
       "    <tr>\n",
       "      <th>2</th>\n",
       "      <td>2.761719</td>\n",
       "      <td>0.418701</td>\n",
       "      <td>1.693359</td>\n",
       "      <td>-1.107422</td>\n",
       "      <td>-0.644531</td>\n",
       "      <td>1.215820</td>\n",
       "      <td>-0.795410</td>\n",
       "      <td>-1.024414</td>\n",
       "      <td>-1.433594</td>\n",
       "      <td>0.107666</td>\n",
       "      <td>...</td>\n",
       "      <td>1.920898</td>\n",
       "      <td>-2.083984</td>\n",
       "      <td>1.467773</td>\n",
       "      <td>-0.192505</td>\n",
       "      <td>-2.873047</td>\n",
       "      <td>-1.083984</td>\n",
       "      <td>-0.799805</td>\n",
       "      <td>-2.486328</td>\n",
       "      <td>2.712891</td>\n",
       "      <td>0.239624</td>\n",
       "    </tr>\n",
       "    <tr>\n",
       "      <th>3</th>\n",
       "      <td>4.218750</td>\n",
       "      <td>-1.310547</td>\n",
       "      <td>1.177734</td>\n",
       "      <td>1.957031</td>\n",
       "      <td>-0.984863</td>\n",
       "      <td>0.626465</td>\n",
       "      <td>0.022751</td>\n",
       "      <td>-1.291016</td>\n",
       "      <td>0.531738</td>\n",
       "      <td>-0.274414</td>\n",
       "      <td>...</td>\n",
       "      <td>1.219727</td>\n",
       "      <td>1.011719</td>\n",
       "      <td>0.436523</td>\n",
       "      <td>-1.833984</td>\n",
       "      <td>-2.617188</td>\n",
       "      <td>-2.974609</td>\n",
       "      <td>-1.174805</td>\n",
       "      <td>0.060760</td>\n",
       "      <td>0.799805</td>\n",
       "      <td>-1.385742</td>\n",
       "    </tr>\n",
       "    <tr>\n",
       "      <th>4</th>\n",
       "      <td>5.281250</td>\n",
       "      <td>-0.868164</td>\n",
       "      <td>-1.562500</td>\n",
       "      <td>3.779297</td>\n",
       "      <td>-1.180664</td>\n",
       "      <td>-1.861328</td>\n",
       "      <td>-0.255371</td>\n",
       "      <td>-1.781250</td>\n",
       "      <td>-3.552734</td>\n",
       "      <td>-1.709961</td>\n",
       "      <td>...</td>\n",
       "      <td>0.478516</td>\n",
       "      <td>-1.299805</td>\n",
       "      <td>-0.400391</td>\n",
       "      <td>-0.716309</td>\n",
       "      <td>-3.289062</td>\n",
       "      <td>-1.982422</td>\n",
       "      <td>-1.214844</td>\n",
       "      <td>-0.696289</td>\n",
       "      <td>0.612305</td>\n",
       "      <td>-2.925781</td>\n",
       "    </tr>\n",
       "    <tr>\n",
       "      <th>5</th>\n",
       "      <td>3.162109</td>\n",
       "      <td>0.028610</td>\n",
       "      <td>1.078125</td>\n",
       "      <td>-0.581055</td>\n",
       "      <td>-0.048218</td>\n",
       "      <td>-0.862793</td>\n",
       "      <td>-1.470703</td>\n",
       "      <td>-0.810547</td>\n",
       "      <td>-1.860352</td>\n",
       "      <td>-0.391113</td>\n",
       "      <td>...</td>\n",
       "      <td>0.919922</td>\n",
       "      <td>-0.979004</td>\n",
       "      <td>-1.116211</td>\n",
       "      <td>0.248413</td>\n",
       "      <td>-2.554688</td>\n",
       "      <td>-1.200195</td>\n",
       "      <td>-0.668457</td>\n",
       "      <td>-1.555664</td>\n",
       "      <td>1.531250</td>\n",
       "      <td>-0.068604</td>\n",
       "    </tr>\n",
       "    <tr>\n",
       "      <th>6</th>\n",
       "      <td>3.255859</td>\n",
       "      <td>-0.542969</td>\n",
       "      <td>0.470459</td>\n",
       "      <td>0.720215</td>\n",
       "      <td>0.875000</td>\n",
       "      <td>1.558594</td>\n",
       "      <td>-0.677246</td>\n",
       "      <td>-1.102539</td>\n",
       "      <td>-0.296631</td>\n",
       "      <td>1.235352</td>\n",
       "      <td>...</td>\n",
       "      <td>0.169556</td>\n",
       "      <td>-0.353027</td>\n",
       "      <td>1.124023</td>\n",
       "      <td>0.296387</td>\n",
       "      <td>-2.994141</td>\n",
       "      <td>-0.528320</td>\n",
       "      <td>-2.433594</td>\n",
       "      <td>0.882324</td>\n",
       "      <td>0.511230</td>\n",
       "      <td>-1.385742</td>\n",
       "    </tr>\n",
       "    <tr>\n",
       "      <th>7</th>\n",
       "      <td>3.982422</td>\n",
       "      <td>0.043213</td>\n",
       "      <td>0.015961</td>\n",
       "      <td>0.560547</td>\n",
       "      <td>-0.462402</td>\n",
       "      <td>-0.933105</td>\n",
       "      <td>-0.664062</td>\n",
       "      <td>-1.018555</td>\n",
       "      <td>-0.346436</td>\n",
       "      <td>0.199707</td>\n",
       "      <td>...</td>\n",
       "      <td>1.856445</td>\n",
       "      <td>-0.085205</td>\n",
       "      <td>0.783203</td>\n",
       "      <td>0.062012</td>\n",
       "      <td>-2.398438</td>\n",
       "      <td>-1.344727</td>\n",
       "      <td>0.347412</td>\n",
       "      <td>-1.344727</td>\n",
       "      <td>0.094482</td>\n",
       "      <td>-0.954590</td>\n",
       "    </tr>\n",
       "    <tr>\n",
       "      <th>8</th>\n",
       "      <td>1.823242</td>\n",
       "      <td>1.109375</td>\n",
       "      <td>0.865234</td>\n",
       "      <td>-0.340088</td>\n",
       "      <td>2.851562</td>\n",
       "      <td>1.240234</td>\n",
       "      <td>-0.390381</td>\n",
       "      <td>0.627930</td>\n",
       "      <td>-0.268799</td>\n",
       "      <td>-0.574219</td>\n",
       "      <td>...</td>\n",
       "      <td>2.261719</td>\n",
       "      <td>0.644043</td>\n",
       "      <td>1.051758</td>\n",
       "      <td>0.293213</td>\n",
       "      <td>-2.171875</td>\n",
       "      <td>-0.729980</td>\n",
       "      <td>-1.210938</td>\n",
       "      <td>-0.873535</td>\n",
       "      <td>0.174805</td>\n",
       "      <td>-0.526367</td>\n",
       "    </tr>\n",
       "    <tr>\n",
       "      <th>9</th>\n",
       "      <td>0.814941</td>\n",
       "      <td>-0.563965</td>\n",
       "      <td>1.099609</td>\n",
       "      <td>-0.876465</td>\n",
       "      <td>0.016678</td>\n",
       "      <td>-0.380371</td>\n",
       "      <td>-2.365234</td>\n",
       "      <td>-0.710449</td>\n",
       "      <td>-0.772461</td>\n",
       "      <td>0.509277</td>\n",
       "      <td>...</td>\n",
       "      <td>1.124023</td>\n",
       "      <td>-0.268555</td>\n",
       "      <td>-0.436768</td>\n",
       "      <td>-0.494141</td>\n",
       "      <td>-3.746094</td>\n",
       "      <td>-1.233398</td>\n",
       "      <td>1.017578</td>\n",
       "      <td>-1.608398</td>\n",
       "      <td>0.479736</td>\n",
       "      <td>-1.564453</td>\n",
       "    </tr>\n",
       "  </tbody>\n",
       "</table>\n",
       "<p>10 rows × 4096 columns</p>\n",
       "</div>"
      ],
      "text/plain": [
       "       0         1         2         3         4         5         6     \\\n",
       "0  4.074219  0.448242  0.981934  0.600586  0.147949  0.032654 -0.903320   \n",
       "1  1.599609 -0.134155  0.183228 -0.589844 -0.876465 -0.122375 -0.903320   \n",
       "2  2.761719  0.418701  1.693359 -1.107422 -0.644531  1.215820 -0.795410   \n",
       "3  4.218750 -1.310547  1.177734  1.957031 -0.984863  0.626465  0.022751   \n",
       "4  5.281250 -0.868164 -1.562500  3.779297 -1.180664 -1.861328 -0.255371   \n",
       "5  3.162109  0.028610  1.078125 -0.581055 -0.048218 -0.862793 -1.470703   \n",
       "6  3.255859 -0.542969  0.470459  0.720215  0.875000  1.558594 -0.677246   \n",
       "7  3.982422  0.043213  0.015961  0.560547 -0.462402 -0.933105 -0.664062   \n",
       "8  1.823242  1.109375  0.865234 -0.340088  2.851562  1.240234 -0.390381   \n",
       "9  0.814941 -0.563965  1.099609 -0.876465  0.016678 -0.380371 -2.365234   \n",
       "\n",
       "       7         8         9       ...         4086      4087      4088  \\\n",
       "0 -0.449463 -1.786133 -0.157104    ...     1.311523 -1.329102 -1.107422   \n",
       "1 -0.562500  0.509766  1.099609    ...     0.973145 -1.235352 -0.020996   \n",
       "2 -1.024414 -1.433594  0.107666    ...     1.920898 -2.083984  1.467773   \n",
       "3 -1.291016  0.531738 -0.274414    ...     1.219727  1.011719  0.436523   \n",
       "4 -1.781250 -3.552734 -1.709961    ...     0.478516 -1.299805 -0.400391   \n",
       "5 -0.810547 -1.860352 -0.391113    ...     0.919922 -0.979004 -1.116211   \n",
       "6 -1.102539 -0.296631  1.235352    ...     0.169556 -0.353027  1.124023   \n",
       "7 -1.018555 -0.346436  0.199707    ...     1.856445 -0.085205  0.783203   \n",
       "8  0.627930 -0.268799 -0.574219    ...     2.261719  0.644043  1.051758   \n",
       "9 -0.710449 -0.772461  0.509277    ...     1.124023 -0.268555 -0.436768   \n",
       "\n",
       "       4089      4090      4091      4092      4093      4094      4095  \n",
       "0 -0.695312 -2.037109 -1.163086  0.305664 -1.410156  1.251953 -0.618164  \n",
       "1 -1.283203 -2.310547 -1.519531 -1.378906 -1.290039  0.959473 -0.590820  \n",
       "2 -0.192505 -2.873047 -1.083984 -0.799805 -2.486328  2.712891  0.239624  \n",
       "3 -1.833984 -2.617188 -2.974609 -1.174805  0.060760  0.799805 -1.385742  \n",
       "4 -0.716309 -3.289062 -1.982422 -1.214844 -0.696289  0.612305 -2.925781  \n",
       "5  0.248413 -2.554688 -1.200195 -0.668457 -1.555664  1.531250 -0.068604  \n",
       "6  0.296387 -2.994141 -0.528320 -2.433594  0.882324  0.511230 -1.385742  \n",
       "7  0.062012 -2.398438 -1.344727  0.347412 -1.344727  0.094482 -0.954590  \n",
       "8  0.293213 -2.171875 -0.729980 -1.210938 -0.873535  0.174805 -0.526367  \n",
       "9 -0.494141 -3.746094 -1.233398  1.017578 -1.608398  0.479736 -1.564453  \n",
       "\n",
       "[10 rows x 4096 columns]"
      ]
     },
     "execution_count": 14,
     "metadata": {},
     "output_type": "execute_result"
    }
   ],
   "source": [
    "df_list_overfeat"
   ]
  },
  {
   "cell_type": "code",
   "execution_count": 15,
   "metadata": {},
   "outputs": [],
   "source": [
    "prediction=pd.DataFrame(pipelogreg.predict_proba(df_list_overfeat)*100, columns=['Truck','Car','Airplane','Ship'])"
   ]
  },
  {
   "cell_type": "code",
   "execution_count": 17,
   "metadata": {},
   "outputs": [
    {
     "data": {
      "text/html": [
       "<div>\n",
       "<style scoped>\n",
       "    .dataframe tbody tr th:only-of-type {\n",
       "        vertical-align: middle;\n",
       "    }\n",
       "\n",
       "    .dataframe tbody tr th {\n",
       "        vertical-align: top;\n",
       "    }\n",
       "\n",
       "    .dataframe thead th {\n",
       "        text-align: right;\n",
       "    }\n",
       "</style>\n",
       "<table border=\"1\" class=\"dataframe\">\n",
       "  <thead>\n",
       "    <tr style=\"text-align: right;\">\n",
       "      <th></th>\n",
       "      <th>Truck</th>\n",
       "      <th>Car</th>\n",
       "      <th>Airplane</th>\n",
       "      <th>Ship</th>\n",
       "    </tr>\n",
       "  </thead>\n",
       "  <tbody>\n",
       "    <tr>\n",
       "      <th>0</th>\n",
       "      <td>0.000767</td>\n",
       "      <td>94.774819</td>\n",
       "      <td>0.100842</td>\n",
       "      <td>5.123572</td>\n",
       "    </tr>\n",
       "    <tr>\n",
       "      <th>1</th>\n",
       "      <td>0.078747</td>\n",
       "      <td>65.677076</td>\n",
       "      <td>0.870667</td>\n",
       "      <td>33.373509</td>\n",
       "    </tr>\n",
       "    <tr>\n",
       "      <th>2</th>\n",
       "      <td>7.229128</td>\n",
       "      <td>91.679987</td>\n",
       "      <td>0.019455</td>\n",
       "      <td>1.071429</td>\n",
       "    </tr>\n",
       "    <tr>\n",
       "      <th>3</th>\n",
       "      <td>0.011228</td>\n",
       "      <td>0.024529</td>\n",
       "      <td>0.006360</td>\n",
       "      <td>99.957883</td>\n",
       "    </tr>\n",
       "    <tr>\n",
       "      <th>4</th>\n",
       "      <td>0.344442</td>\n",
       "      <td>3.940843</td>\n",
       "      <td>95.714651</td>\n",
       "      <td>0.000064</td>\n",
       "    </tr>\n",
       "    <tr>\n",
       "      <th>5</th>\n",
       "      <td>37.850405</td>\n",
       "      <td>11.352885</td>\n",
       "      <td>0.577287</td>\n",
       "      <td>50.219423</td>\n",
       "    </tr>\n",
       "    <tr>\n",
       "      <th>6</th>\n",
       "      <td>0.011681</td>\n",
       "      <td>0.000832</td>\n",
       "      <td>14.029706</td>\n",
       "      <td>85.957780</td>\n",
       "    </tr>\n",
       "    <tr>\n",
       "      <th>7</th>\n",
       "      <td>0.051999</td>\n",
       "      <td>14.751045</td>\n",
       "      <td>0.059126</td>\n",
       "      <td>85.137830</td>\n",
       "    </tr>\n",
       "    <tr>\n",
       "      <th>8</th>\n",
       "      <td>2.950739</td>\n",
       "      <td>7.889873</td>\n",
       "      <td>89.010510</td>\n",
       "      <td>0.148878</td>\n",
       "    </tr>\n",
       "    <tr>\n",
       "      <th>9</th>\n",
       "      <td>0.040951</td>\n",
       "      <td>4.969514</td>\n",
       "      <td>88.228320</td>\n",
       "      <td>6.761215</td>\n",
       "    </tr>\n",
       "  </tbody>\n",
       "</table>\n",
       "</div>"
      ],
      "text/plain": [
       "       Truck        Car   Airplane       Ship\n",
       "0   0.000767  94.774819   0.100842   5.123572\n",
       "1   0.078747  65.677076   0.870667  33.373509\n",
       "2   7.229128  91.679987   0.019455   1.071429\n",
       "3   0.011228   0.024529   0.006360  99.957883\n",
       "4   0.344442   3.940843  95.714651   0.000064\n",
       "5  37.850405  11.352885   0.577287  50.219423\n",
       "6   0.011681   0.000832  14.029706  85.957780\n",
       "7   0.051999  14.751045   0.059126  85.137830\n",
       "8   2.950739   7.889873  89.010510   0.148878\n",
       "9   0.040951   4.969514  88.228320   6.761215"
      ]
     },
     "execution_count": 17,
     "metadata": {},
     "output_type": "execute_result"
    }
   ],
   "source": [
    "prediction"
   ]
  },
  {
   "cell_type": "markdown",
   "metadata": {},
   "source": [
    "### I get an accuracy of 70% which is in line with what I should have got (80%) considering the few items selected"
   ]
  },
  {
   "cell_type": "code",
   "execution_count": null,
   "metadata": {},
   "outputs": [],
   "source": []
  }
 ],
 "metadata": {
  "kernelspec": {
   "display_name": "Python 3",
   "language": "python",
   "name": "python3"
  },
  "language_info": {
   "codemirror_mode": {
    "name": "ipython",
    "version": 3
   },
   "file_extension": ".py",
   "mimetype": "text/x-python",
   "name": "python",
   "nbconvert_exporter": "python",
   "pygments_lexer": "ipython3",
   "version": "3.6.5"
  }
 },
 "nbformat": 4,
 "nbformat_minor": 2
}
