{
 "cells": [
  {
   "cell_type": "code",
   "execution_count": 5,
   "metadata": {},
   "outputs": [
    {
     "name": "stdout",
     "output_type": "stream",
     "text": [
      "It is a dictionary with keys: ['pixels', 'overfeat', 'labels', 'names', 'allow_pickle']\n"
     ]
    }
   ],
   "source": [
    "import numpy as np\n",
    "import os\n",
    "import pandas as pd\n",
    "\n",
    "# Load the .npz file\n",
    "with np.load('cifar4-train.npz') as data:\n",
    "    cifar4_data = dict(data.items())\n",
    "\n",
    "print('It is a dictionary with keys:', list(cifar4_data.keys()))"
   ]
  },
  {
   "cell_type": "code",
   "execution_count": 6,
   "metadata": {},
   "outputs": [],
   "source": [
    "X=cifar4_data['overfeat']\n",
    "y=cifar4_data['labels']\n",
    "P=cifar4_data['pixels']"
   ]
  },
  {
   "cell_type": "code",
   "execution_count": 7,
   "metadata": {},
   "outputs": [],
   "source": [
    "from sklearn.model_selection import train_test_split\n",
    "from sklearn.decomposition import PCA\n",
    "from sklearn.pipeline import Pipeline\n",
    "from sklearn.neighbors import KNeighborsClassifier\n",
    "from sklearn.tree import DecisionTreeClassifier\n",
    "\n",
    "# Split data into train/test sets\n",
    "X_tr, X_te, y_tr, y_te = train_test_split(\n",
    "    X, y, test_size=0.2, random_state=0)\n",
    "\n",
    "# Split the train set in train and validate\n",
    "X_tr, X_va, y_tr, y_va = train_test_split(\n",
    "    X_tr, y_tr, test_size=0.2, random_state=0)"
   ]
  },
  {
   "cell_type": "code",
   "execution_count": 8,
   "metadata": {},
   "outputs": [
    {
     "name": "stdout",
     "output_type": "stream",
     "text": [
      "Accuracy: 0.605\n"
     ]
    }
   ],
   "source": [
    "# Create a k-NN classifier with default values\n",
    "# i set the # of componenents of the PCA to 87 because it represent the 85% of deviations\n",
    "# I decide to use the PCA because we have much quicker processing with negligible reduction in accuracy (2% apprx)\n",
    "pipe = Pipeline([\n",
    "     ('PCA', PCA(n_components=87)),\n",
    "        ('Dt', DecisionTreeClassifier())\n",
    "        ])\n",
    "\n",
    "\n",
    "# Fit to train data\n",
    "pipe.fit(X_tr, y_tr)\n",
    "\n",
    "# Evaluate on test set\n",
    "accuracy = pipe.score(X_te, y_te)\n",
    "print('Accuracy: {:.3f}'.format(accuracy))"
   ]
  },
  {
   "cell_type": "code",
   "execution_count": 9,
   "metadata": {},
   "outputs": [
    {
     "name": "stdout",
     "output_type": "stream",
     "text": [
      "0\n",
      "1\n",
      "2\n",
      "3\n",
      "4\n",
      "5\n",
      "6\n",
      "7\n",
      "8\n",
      "9\n",
      "10\n",
      "11\n",
      "12\n",
      "13\n",
      "14\n",
      "15\n",
      "16\n",
      "17\n",
      "18\n",
      "19\n",
      "20\n",
      "21\n",
      "22\n",
      "23\n",
      "24\n"
     ]
    }
   ],
   "source": [
    "from sklearn.model_selection import ParameterGrid\n",
    "\n",
    "max_depth = np.arange(1, 50) \n",
    "\n",
    "\n",
    "# Save accuracy on test set\n",
    "test_scores_tr = []\n",
    "test_scores_te = []\n",
    "\n",
    "# to test the single parameter I use a for cycle\n",
    "\n",
    "for i in range(25):\n",
    "    # Set parameters\n",
    "    pipe = Pipeline([\n",
    "   \n",
    "    ( 'PCA', PCA(n_components=87)),\n",
    "        ('Dt', DecisionTreeClassifier(max_depth=max_depth[i]))])\n",
    "    \n",
    "    \n",
    "    # Fit a k-NN classifier\n",
    "    pipe.fit(X_tr, y_tr)\n",
    "\n",
    "    # Save accuracy on test set\n",
    "    #params_dict['accuracy'] = pipe.score(X_tr, y_tr)\n",
    "    #params_dict['accuracy'] = pipe.score(X_va, y_va)\n",
    "   \n",
    "    # Save result\n",
    "    test_scores_tr.append(pipe.score(X_tr, y_tr))\n",
    "    test_scores_te.append(pipe.score(X_te, y_te))\n",
    "    print(i)\n"
   ]
  },
  {
   "cell_type": "code",
   "execution_count": 10,
   "metadata": {},
   "outputs": [
    {
     "data": {
      "image/png": "[encoded data removed]",
      "text/plain": [
       "<Figure size 432x288 with 1 Axes>"
      ]
     },
     "metadata": {},
     "output_type": "display_data"
    }
   ],
   "source": [
    "# I compare the train and validation accuracy\n",
    "\n",
    "%matplotlib inline\n",
    "import matplotlib.pyplot as plt\n",
    "\n",
    "fig = plt.figure()\n",
    "ax = plt.axes()\n",
    "\n",
    "ax.plot(test_scores_te)\n",
    "ax.plot(test_scores_tr)\n",
    "\n",
    "plt.show()"
   ]
  },
  {
   "cell_type": "code",
   "execution_count": 11,
   "metadata": {},
   "outputs": [
    {
     "data": {
      "text/html": [
       "<div>\n",
       "<style scoped>\n",
       "    .dataframe tbody tr th:only-of-type {\n",
       "        vertical-align: middle;\n",
       "    }\n",
       "\n",
       "    .dataframe tbody tr th {\n",
       "        vertical-align: top;\n",
       "    }\n",
       "\n",
       "    .dataframe thead th {\n",
       "        text-align: right;\n",
       "    }\n",
       "</style>\n",
       "<table border=\"1\" class=\"dataframe\">\n",
       "  <thead>\n",
       "    <tr style=\"text-align: right;\">\n",
       "      <th></th>\n",
       "      <th>Validation</th>\n",
       "      <th>Train</th>\n",
       "    </tr>\n",
       "  </thead>\n",
       "  <tbody>\n",
       "    <tr>\n",
       "      <th>0</th>\n",
       "      <td>0.410</td>\n",
       "      <td>0.450313</td>\n",
       "    </tr>\n",
       "    <tr>\n",
       "      <th>1</th>\n",
       "      <td>0.604</td>\n",
       "      <td>0.618125</td>\n",
       "    </tr>\n",
       "    <tr>\n",
       "      <th>2</th>\n",
       "      <td>0.609</td>\n",
       "      <td>0.646563</td>\n",
       "    </tr>\n",
       "    <tr>\n",
       "      <th>3</th>\n",
       "      <td>0.627</td>\n",
       "      <td>0.679375</td>\n",
       "    </tr>\n",
       "    <tr>\n",
       "      <th>4</th>\n",
       "      <td>0.649</td>\n",
       "      <td>0.717500</td>\n",
       "    </tr>\n",
       "    <tr>\n",
       "      <th>5</th>\n",
       "      <td>0.648</td>\n",
       "      <td>0.757188</td>\n",
       "    </tr>\n",
       "    <tr>\n",
       "      <th>6</th>\n",
       "      <td>0.652</td>\n",
       "      <td>0.809063</td>\n",
       "    </tr>\n",
       "    <tr>\n",
       "      <th>7</th>\n",
       "      <td>0.643</td>\n",
       "      <td>0.863750</td>\n",
       "    </tr>\n",
       "    <tr>\n",
       "      <th>8</th>\n",
       "      <td>0.637</td>\n",
       "      <td>0.908438</td>\n",
       "    </tr>\n",
       "    <tr>\n",
       "      <th>9</th>\n",
       "      <td>0.617</td>\n",
       "      <td>0.942813</td>\n",
       "    </tr>\n",
       "  </tbody>\n",
       "</table>\n",
       "</div>"
      ],
      "text/plain": [
       "   Validation     Train\n",
       "0       0.410  0.450313\n",
       "1       0.604  0.618125\n",
       "2       0.609  0.646563\n",
       "3       0.627  0.679375\n",
       "4       0.649  0.717500\n",
       "5       0.648  0.757188\n",
       "6       0.652  0.809063\n",
       "7       0.643  0.863750\n",
       "8       0.637  0.908438\n",
       "9       0.617  0.942813"
      ]
     },
     "execution_count": 11,
     "metadata": {},
     "output_type": "execute_result"
    }
   ],
   "source": [
    "scores_val=pd.DataFrame(test_scores_te, columns=['Validation'] )\n",
    "scores_train=pd.DataFrame(test_scores_tr, columns=['Train'] )\n",
    "scores=pd.concat([scores_val,scores_train], axis=1)\n",
    "scores.head(10)"
   ]
  },
  {
   "cell_type": "markdown",
   "metadata": {},
   "source": [
    "### We can clearly see the overfitting with the increase of the depth, I chose as depth 5"
   ]
  },
  {
   "cell_type": "code",
   "execution_count": 13,
   "metadata": {},
   "outputs": [
    {
     "name": "stdout",
     "output_type": "stream",
     "text": [
      "Train Accuracy: 0.7140625\n",
      "Validation Accuracy: 0.64875\n"
     ]
    }
   ],
   "source": [
    "pipe = Pipeline([\n",
    "   \n",
    "    ( 'PCA', PCA(n_components=87)),\n",
    "        ('Dt', DecisionTreeClassifier(max_depth=5))])\n",
    "    \n",
    "    \n",
    "    # Fit the tuned decision tree\n",
    "pipe.fit(X_tr, y_tr)\n",
    "\n",
    "    #  result\n",
    "    \n",
    "print('Train Accuracy:',pipe.score(X_tr, y_tr))\n",
    "print('Validation Accuracy:',pipe.score(X_va, y_va))"
   ]
  },
  {
   "cell_type": "markdown",
   "metadata": {},
   "source": [
    "# Random Forest"
   ]
  },
  {
   "cell_type": "code",
   "execution_count": 14,
   "metadata": {},
   "outputs": [
    {
     "name": "stderr",
     "output_type": "stream",
     "text": [
      "C:\\Users\\erobbian\\AppData\\Local\\Continuum\\anaconda3\\lib\\site-packages\\sklearn\\ensemble\\weight_boosting.py:29: DeprecationWarning: numpy.core.umath_tests is an internal NumPy module and should not be imported. It will be removed in a future NumPy release.\n",
      "  from numpy.core.umath_tests import inner1d\n"
     ]
    },
    {
     "name": "stdout",
     "output_type": "stream",
     "text": [
      "Accuracy: 0.638\n"
     ]
    }
   ],
   "source": [
    "from sklearn.ensemble import RandomForestClassifier\n",
    "\n",
    "\n",
    "pipeforest = Pipeline([\n",
    "    ('PCA', PCA(n_components=87)),\n",
    "    ('rf', RandomForestClassifier())\n",
    "])\n",
    "\n",
    "# Fit to train data\n",
    "pipeforest.fit(X_tr, y_tr)\n",
    "\n",
    "# Evaluate on test set\n",
    "accuracy = pipeforest.score(X_te, y_te)\n",
    "print('Accuracy: {:.3f}'.format(accuracy))"
   ]
  },
  {
   "cell_type": "code",
   "execution_count": 15,
   "metadata": {},
   "outputs": [
    {
     "name": "stdout",
     "output_type": "stream",
     "text": [
      "10\n",
      "0.99625\n",
      "0.641\n",
      "0.675\n",
      "-------\n",
      "60\n",
      "1.0\n",
      "0.752\n",
      "0.75375\n",
      "-------\n",
      "110\n",
      "1.0\n",
      "0.762\n",
      "0.77625\n",
      "-------\n",
      "160\n",
      "1.0\n",
      "0.76\n",
      "0.7525\n",
      "-------\n",
      "210\n",
      "1.0\n",
      "0.769\n",
      "0.77125\n",
      "-------\n",
      "260\n",
      "1.0\n",
      "0.762\n",
      "0.785\n",
      "-------\n",
      "310\n",
      "1.0\n",
      "0.774\n",
      "0.78\n",
      "-------\n",
      "360\n",
      "1.0\n",
      "0.774\n",
      "0.78375\n",
      "-------\n",
      "410\n",
      "1.0\n",
      "0.777\n",
      "0.77875\n",
      "-------\n",
      "460\n",
      "1.0\n",
      "0.785\n",
      "0.7775\n",
      "-------\n",
      "510\n",
      "1.0\n",
      "0.777\n",
      "0.7725\n",
      "-------\n"
     ]
    }
   ],
   "source": [
    "# Save accuracy on test set\n",
    "test_scores_tr_forest = []\n",
    "test_scores_te_forest = []\n",
    "test_scores_va_forest = []\n",
    "\n",
    "i=1\n",
    "for i in range(10,521,50):\n",
    "    # Set parameters\n",
    "    pipeforest = Pipeline([\n",
    "    ('PCA', PCA(n_components=87)),\n",
    "    ('rf', RandomForestClassifier(n_estimators=i))])\n",
    "\n",
    "    # Fit a k-NN classifier\n",
    "    pipeforest.fit(X_tr, y_tr)\n",
    "\n",
    "    # Save accuracy on test set\n",
    "    #params_dict['accuracy'] = pipe.score(X_tr, y_tr)\n",
    "    #params_dict['accuracy'] = pipe.score(X_va, y_va)\n",
    "   \n",
    "    # Save result\n",
    "    test_scores_tr_forest.append(pipeforest.score(X_tr, y_tr))\n",
    "    test_scores_te_forest.append(pipeforest.score(X_te, y_te))\n",
    "    test_scores_va_forest.append(pipeforest.score(X_va, y_va))\n",
    "    \n",
    "    print(i)\n",
    "    print(pipeforest.score(X_tr, y_tr))\n",
    "    print(pipeforest.score(X_te, y_te))\n",
    "    print(pipeforest.score(X_va, y_va))\n",
    "    print('-------')\n"
   ]
  },
  {
   "cell_type": "code",
   "execution_count": 16,
   "metadata": {},
   "outputs": [
    {
     "data": {
      "image/png": "[encoded data removed]",
      "text/plain": [
       "<Figure size 432x288 with 1 Axes>"
      ]
     },
     "metadata": {},
     "output_type": "display_data"
    }
   ],
   "source": [
    "fig = plt.figure()\n",
    "ax = plt.axes()\n",
    "\n",
    "ax.plot(test_scores_va_forest)\n",
    "ax.plot(test_scores_tr_forest)\n",
    "ax.plot(test_scores_te_forest)\n",
    "\n",
    "plt.show()"
   ]
  },
  {
   "cell_type": "markdown",
   "metadata": {},
   "source": [
    "### as we can see from the resutls, with more than 110 estimators we have a strong deminishing of accuracy improvement"
   ]
  },
  {
   "cell_type": "markdown",
   "metadata": {},
   "source": [
    "# fit tuned decision tree and random forest"
   ]
  },
  {
   "cell_type": "code",
   "execution_count": 17,
   "metadata": {},
   "outputs": [],
   "source": [
    "# Split data into train/test sets\n",
    "X_tr, X_te, y_tr, y_te = train_test_split(\n",
    "    X, y, test_size=0.2, random_state=0)"
   ]
  },
  {
   "cell_type": "code",
   "execution_count": 18,
   "metadata": {},
   "outputs": [
    {
     "name": "stdout",
     "output_type": "stream",
     "text": [
      "Accuracy Decision Tree on Test: 0.651\n"
     ]
    }
   ],
   "source": [
    "pipe = Pipeline([\n",
    "   \n",
    "    ( 'PCA', PCA(n_components=87)),\n",
    "    ('Dt', DecisionTreeClassifier(max_depth=max_depth[5]))])\n",
    "    \n",
    "    \n",
    "# Fit a k-NN classifier\n",
    "pipe.fit(X_tr, y_tr)\n",
    "\n",
    "\n",
    "\n",
    "print('Accuracy Decision Tree on Test:', pipe.score(X_te, y_te))"
   ]
  },
  {
   "cell_type": "code",
   "execution_count": 19,
   "metadata": {},
   "outputs": [
    {
     "name": "stdout",
     "output_type": "stream",
     "text": [
      "Accuracy Random Forest Tree on Test: 0.766\n"
     ]
    }
   ],
   "source": [
    "pipeforest = Pipeline([\n",
    "    ('PCA', PCA(n_components=87)),\n",
    "    ('rf', RandomForestClassifier(n_estimators=110))\n",
    "])\n",
    "\n",
    "# Fit to train data\n",
    "pipeforest.fit(X_tr, y_tr)\n",
    "\n",
    "\n",
    "print('Accuracy Random Forest Tree on Test:', pipeforest.score(X_te, y_te))"
   ]
  },
  {
   "cell_type": "code",
   "execution_count": null,
   "metadata": {},
   "outputs": [],
   "source": []
  }
 ],
 "metadata": {
  "kernelspec": {
   "display_name": "Python 3",
   "language": "python",
   "name": "python3"
  },
  "language_info": {
   "codemirror_mode": {
    "name": "ipython",
    "version": 3
   },
   "file_extension": ".py",
   "mimetype": "text/x-python",
   "name": "python",
   "nbconvert_exporter": "python",
   "pygments_lexer": "ipython3",
   "version": "3.6.5"
  }
 },
 "nbformat": 4,
 "nbformat_minor": 2
}
